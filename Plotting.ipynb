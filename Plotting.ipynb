{
 "cells": [
  {
   "cell_type": "code",
   "execution_count": null,
   "id": "b7775385-0983-40d5-b470-ce32c4816a3e",
   "metadata": {},
   "outputs": [],
   "source": [
    "import h5py\n",
    "import numpy as np\n",
    "import swiftsimio\n",
    "import matplotlib.pyplot as plt\n",
    "\n",
    "import sys\n",
    "sys.path.append(\"./software/HBT-HERONS/toolbox/\")\n",
    "from HBTReader import HBTReader"
   ]
  },
  {
   "cell_type": "markdown",
   "id": "9c078731-6db7-4009-91c6-8319096f79f7",
   "metadata": {},
   "source": [
    "# Initial conditions\n",
    "\n",
    "monofonIC saves the power spectrum of fluctuations of your chosen cosmological model. We can load them and plot them to see which scales have the most power. "
   ]
  },
  {
   "cell_type": "code",
   "execution_count": null,
   "id": "424bfa9d-f6ae-49d5-8716-9986388b98b6",
   "metadata": {},
   "outputs": [],
   "source": [
    "power_spectrum = np.loadtxt(\"./parameter_files/monofonic/example_input_powerspec.txt\")\n",
    "\n",
    "fig, ax1 = plt.subplots(1)\n",
    "ax1.plot(power_spectrum[:,0],power_spectrum[:,1])\n",
    "ax1.set_xscale('log')\n",
    "ax1.set_yscale('log')\n",
    "ax1.set_xlabel('k [h/Mpc]')\n",
    "ax1.set_ylabel('Ptot')\n",
    "plt.show()"
   ]
  },
  {
   "cell_type": "markdown",
   "id": "07dceb00-a74f-440b-a1db-6ae68597487c",
   "metadata": {},
   "source": [
    "We can also plot the positions of the particles, which resemble a grid plus some perturbations that reflect the power spectrum."
   ]
  },
  {
   "cell_type": "code",
   "execution_count": null,
   "id": "93e4a59e-a81b-4b20-a37b-a688e0dbe1a8",
   "metadata": {},
   "outputs": [],
   "source": [
    "with h5py.File(\"./outputs/monofonic/ics_swift.hdf5\") as file:\n",
    "    coordinates = file[\"PartType1/Coordinates\"][()]\n",
    "    \n",
    "fig, ax1 = plt.subplots(1)\n",
    "ax1.scatter(coordinates[:,0],coordinates[:,1],s=0.1,lw=0,)\n",
    "ax1.set_aspect('equal')\n",
    "ax1.set_xlabel('x [Mpc]')\n",
    "ax1.set_ylabel('y [Mpc]')\n",
    "plt.show()"
   ]
  },
  {
   "cell_type": "markdown",
   "id": "32e33707-f4b0-478c-a226-afa8f58338b0",
   "metadata": {},
   "source": [
    "# Present-day matter distribution\n",
    "\n",
    "Integrating the initial conditions with SWIFT allows us to see how matter is distributed at the present-day. We see much larger overdensities compared to the initial conditions, which reflects the effect that gravity had over cosmic time."
   ]
  },
  {
   "cell_type": "code",
   "execution_count": null,
   "id": "70ffa49f-50b1-48b9-9685-306e10e66f63",
   "metadata": {},
   "outputs": [],
   "source": [
    "snapshot = swiftsimio.load(\"./outputs/SWIFT/snap_0049.hdf5\")\n",
    "coordinates = snapshot.dark_matter.coordinates\n",
    "\n",
    "    \n",
    "fig, ax1 = plt.subplots(1)\n",
    "ax1.scatter(coordinates[:,0],coordinates[:,1],s=0.1,lw=0,)\n",
    "ax1.set_aspect('equal')\n",
    "ax1.set_xlabel('x [Mpc]')\n",
    "ax1.set_ylabel('y [Mpc]')\n",
    "plt.show()"
   ]
  },
  {
   "cell_type": "markdown",
   "id": "2bda9979-020a-4a42-b7e8-d4ff4fdda603",
   "metadata": {},
   "source": [
    "# Bound mass functions"
   ]
  },
  {
   "cell_type": "markdown",
   "id": "13b9ad04-50c0-48fc-96a4-e6bb97735ab6",
   "metadata": {},
   "source": [
    "We can use the HBT-HERONS catalogues to see how many subhaloes of a given mass there are in the box."
   ]
  },
  {
   "cell_type": "code",
   "execution_count": null,
   "id": "dc560bb3-a450-45b4-aca2-e7fa9b411f27",
   "metadata": {},
   "outputs": [],
   "source": [
    "# Access all the HBT-HERONS catalogues\n",
    "subhalo_catalogues = HBTReader(\"./outputs/HBT-HERONS/\")\n",
    "\n",
    "# Load the last snapshot of the simulation\n",
    "subhaloes = subhalo_catalogues.LoadSubhalos()\n",
    "subhalo_mbound = subhaloes[\"Mbound\"] * 1e10 # Msun\n",
    "subhalo_trackid = subhaloes[\"TrackId\"]\n",
    "\n",
    "fig, ax1 = plt.subplots(1)\n",
    "ax1.plot(np.sort(mbound)[::-1], np.arange(len(mbound))+1)\n",
    "ax1.set_yscale('log')\n",
    "ax1.set_xscale('log')\n",
    "ax1.set_xlabel('Bound mass [Msun]')\n",
    "ax1.set_ylabel('N(>Bound Mass)')\n",
    "plt.show()"
   ]
  },
  {
   "cell_type": "markdown",
   "id": "0fd76c38-53ce-4b16-820b-627d4181c480",
   "metadata": {},
   "source": [
    "We can also see the mass evolution of the most massive subhalo in the box, which has a unique identifier (`TrackId`)"
   ]
  },
  {
   "cell_type": "code",
   "execution_count": null,
   "id": "d3a705b2-0812-472a-b229-27bb2981804f",
   "metadata": {},
   "outputs": [],
   "source": [
    "TrackId_to_follow = subhalo_trackid[subhalo_mbound.argmax()]\n",
    "subhalo_evolution = subhalo_catalogues.GetTrackEvolution(TrackId_to_follow)\n",
    "\n",
    "fig, ax1 = plt.subplots(1)\n",
    "ax1.plot(subhalo_evolution[\"Snapshot\"],subhalo_evolution[\"Mbound\"] * 1e10)\n",
    "ax1.set_yscale('log')\n",
    "ax1.set_ylabel('Bound mass [Msun]')\n",
    "ax1.set_xlabel('Snapshot')\n",
    "plt.show()"
   ]
  },
  {
   "cell_type": "markdown",
   "id": "4bdc1c1d-d413-4025-9a61-fa6de8e02ca2",
   "metadata": {},
   "source": [
    "# SOAP catalogues - Vmax functions\n",
    "\n",
    "SOAP takes the HBT-HERONS subhalo centres and particles to measure many properties of the subhalo population. It is unit-aware and fully compatible with swiftsimio, making it easy to circumvent unit-related-migraines."
   ]
  },
  {
   "cell_type": "code",
   "execution_count": null,
   "id": "e435211f-5d60-4751-a0c5-835386623030",
   "metadata": {},
   "outputs": [],
   "source": [
    "SOAP_catalogue = swiftsimio.load(\"./outputs/SOAP/SOAP_uncompressed/HBTplus/halo_properties_0049.hdf5\")\n",
    "\n",
    "fig, ax1 = plt.subplots(1)\n",
    "ax1.plot(np.sort(SOAP_catalogue.bound_subhalo.maximum_circular_velocity.to(\"km/s\"))[::-1],np.arange(len(SOAP_catalogue.bound_subhalo.maximum_circular_velocity))+1)\n",
    "ax1.set_xscale(\"log\")\n",
    "ax1.set_yscale(\"log\")\n",
    "ax1.set_ylabel(\"N>(Vmax)\")\n",
    "ax1.set_xlabel(\"Vmax [km/s]\")\n",
    "plt.show()"
   ]
  },
  {
   "cell_type": "code",
   "execution_count": null,
   "id": "b5898bf8-216f-4acf-bb5a-7b311dca6917",
   "metadata": {},
   "outputs": [],
   "source": []
  }
 ],
 "metadata": {
  "kernelspec": {
   "display_name": "Python 3 (ipykernel)",
   "language": "python",
   "name": "python3"
  },
  "language_info": {
   "codemirror_mode": {
    "name": "ipython",
    "version": 3
   },
   "file_extension": ".py",
   "mimetype": "text/x-python",
   "name": "python",
   "nbconvert_exporter": "python",
   "pygments_lexer": "ipython3",
   "version": "3.10.12"
  }
 },
 "nbformat": 4,
 "nbformat_minor": 5
}
